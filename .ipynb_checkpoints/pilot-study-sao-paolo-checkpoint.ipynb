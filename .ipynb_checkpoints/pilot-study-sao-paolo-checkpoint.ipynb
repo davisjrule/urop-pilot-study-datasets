{
 "cells": [
  {
   "cell_type": "code",
   "execution_count": 57,
   "id": "5c7a1f35",
   "metadata": {},
   "outputs": [],
   "source": [
    "# libraries\n",
    "import csv\n",
    "import pandas as pd\n",
    "import numpy as np\n",
    "from matplotlib import pyplot as plt\n",
    "from sklearn.model_selection import train_test_split"
   ]
  },
  {
   "cell_type": "markdown",
   "id": "b2435b48",
   "metadata": {},
   "source": [
    "## Sao Paolo Traffic data set"
   ]
  },
  {
   "cell_type": "code",
   "execution_count": null,
   "id": "2f4af8b6",
   "metadata": {},
   "outputs": [],
   "source": [
    "# 1. Hour\n",
    "# 2. Immobilized bus\n",
    "# 3. Broken Truck\n",
    "# 4. Vehicle excess\n",
    "# 5. Accident victim\n",
    "# 6. Running over\n",
    "# 7. Fire Vehicles\n",
    "# 8. Occurrence involving freight\n",
    "# 9. Incident involving dangerous freight\n",
    "# 10. Lack of electricity\n",
    "# 11. Fire\n",
    "# 12. Point of flooding\n",
    "# 13. Manifestations\n",
    "# 14. Defect in the network of trolleybuses\n",
    "# 15. Tree on the road\n",
    "# 16. Semaphore off\n",
    "# 17. Intermittent Semaphore\n",
    "# 18. Slowness in traffic (%) (Target)"
   ]
  },
  {
   "cell_type": "code",
   "execution_count": 58,
   "id": "aaaf523e",
   "metadata": {},
   "outputs": [
    {
     "name": "stdout",
     "output_type": "stream",
     "text": [
      "<class 'pandas.core.frame.DataFrame'>\n",
      "RangeIndex: 135 entries, 0 to 134\n",
      "Data columns (total 18 columns):\n",
      " #   Column                                 Non-Null Count  Dtype  \n",
      "---  ------                                 --------------  -----  \n",
      " 0   Hour                                   135 non-null    int64  \n",
      " 1   Immobilized bus                        135 non-null    int64  \n",
      " 2   Broken Truck                           135 non-null    int64  \n",
      " 3   Vehicle excess                         135 non-null    int64  \n",
      " 4   Accident victim                        135 non-null    int64  \n",
      " 5   Running over                           135 non-null    int64  \n",
      " 6   Fire vehicles                          135 non-null    int64  \n",
      " 7   Occurrence involving freight           135 non-null    int64  \n",
      " 8   Incident involving dangerous freight   135 non-null    int64  \n",
      " 9   Lack of electricity                    135 non-null    int64  \n",
      " 10  Fire                                   135 non-null    int64  \n",
      " 11  Point of flooding                      135 non-null    int64  \n",
      " 12  Manifestations                         135 non-null    int64  \n",
      " 13  Defect in the network of trolleybuses  135 non-null    int64  \n",
      " 14  Tree on the road                       135 non-null    int64  \n",
      " 15  Semaphore off                          135 non-null    int64  \n",
      " 16  Intermittent Semaphore                 135 non-null    int64  \n",
      " 17  Slowness in traffic (%)                135 non-null    float64\n",
      "dtypes: float64(1), int64(17)\n",
      "memory usage: 19.1 KB\n"
     ]
    },
    {
     "data": {
      "text/html": [
       "<div>\n",
       "<style scoped>\n",
       "    .dataframe tbody tr th:only-of-type {\n",
       "        vertical-align: middle;\n",
       "    }\n",
       "\n",
       "    .dataframe tbody tr th {\n",
       "        vertical-align: top;\n",
       "    }\n",
       "\n",
       "    .dataframe thead th {\n",
       "        text-align: right;\n",
       "    }\n",
       "</style>\n",
       "<table border=\"1\" class=\"dataframe\">\n",
       "  <thead>\n",
       "    <tr style=\"text-align: right;\">\n",
       "      <th></th>\n",
       "      <th>Hour</th>\n",
       "      <th>Immobilized bus</th>\n",
       "      <th>Broken Truck</th>\n",
       "      <th>Vehicle excess</th>\n",
       "      <th>Accident victim</th>\n",
       "      <th>Running over</th>\n",
       "      <th>Fire vehicles</th>\n",
       "      <th>Occurrence involving freight</th>\n",
       "      <th>Incident involving dangerous freight</th>\n",
       "      <th>Lack of electricity</th>\n",
       "      <th>Fire</th>\n",
       "      <th>Point of flooding</th>\n",
       "      <th>Manifestations</th>\n",
       "      <th>Defect in the network of trolleybuses</th>\n",
       "      <th>Tree on the road</th>\n",
       "      <th>Semaphore off</th>\n",
       "      <th>Intermittent Semaphore</th>\n",
       "      <th>Slowness in traffic (%)</th>\n",
       "    </tr>\n",
       "  </thead>\n",
       "  <tbody>\n",
       "    <tr>\n",
       "      <th>0</th>\n",
       "      <td>1</td>\n",
       "      <td>0</td>\n",
       "      <td>0</td>\n",
       "      <td>0</td>\n",
       "      <td>0</td>\n",
       "      <td>0</td>\n",
       "      <td>0</td>\n",
       "      <td>0</td>\n",
       "      <td>0</td>\n",
       "      <td>0</td>\n",
       "      <td>0</td>\n",
       "      <td>0</td>\n",
       "      <td>0</td>\n",
       "      <td>0</td>\n",
       "      <td>0</td>\n",
       "      <td>0</td>\n",
       "      <td>0</td>\n",
       "      <td>4.1</td>\n",
       "    </tr>\n",
       "    <tr>\n",
       "      <th>1</th>\n",
       "      <td>2</td>\n",
       "      <td>0</td>\n",
       "      <td>0</td>\n",
       "      <td>0</td>\n",
       "      <td>0</td>\n",
       "      <td>0</td>\n",
       "      <td>0</td>\n",
       "      <td>0</td>\n",
       "      <td>0</td>\n",
       "      <td>0</td>\n",
       "      <td>0</td>\n",
       "      <td>0</td>\n",
       "      <td>0</td>\n",
       "      <td>0</td>\n",
       "      <td>0</td>\n",
       "      <td>0</td>\n",
       "      <td>0</td>\n",
       "      <td>6.6</td>\n",
       "    </tr>\n",
       "    <tr>\n",
       "      <th>2</th>\n",
       "      <td>3</td>\n",
       "      <td>0</td>\n",
       "      <td>0</td>\n",
       "      <td>0</td>\n",
       "      <td>0</td>\n",
       "      <td>0</td>\n",
       "      <td>0</td>\n",
       "      <td>0</td>\n",
       "      <td>0</td>\n",
       "      <td>0</td>\n",
       "      <td>0</td>\n",
       "      <td>0</td>\n",
       "      <td>0</td>\n",
       "      <td>0</td>\n",
       "      <td>0</td>\n",
       "      <td>0</td>\n",
       "      <td>0</td>\n",
       "      <td>8.7</td>\n",
       "    </tr>\n",
       "    <tr>\n",
       "      <th>3</th>\n",
       "      <td>4</td>\n",
       "      <td>0</td>\n",
       "      <td>0</td>\n",
       "      <td>0</td>\n",
       "      <td>0</td>\n",
       "      <td>0</td>\n",
       "      <td>0</td>\n",
       "      <td>0</td>\n",
       "      <td>0</td>\n",
       "      <td>0</td>\n",
       "      <td>0</td>\n",
       "      <td>0</td>\n",
       "      <td>0</td>\n",
       "      <td>0</td>\n",
       "      <td>0</td>\n",
       "      <td>0</td>\n",
       "      <td>0</td>\n",
       "      <td>9.2</td>\n",
       "    </tr>\n",
       "    <tr>\n",
       "      <th>4</th>\n",
       "      <td>5</td>\n",
       "      <td>0</td>\n",
       "      <td>0</td>\n",
       "      <td>0</td>\n",
       "      <td>0</td>\n",
       "      <td>0</td>\n",
       "      <td>0</td>\n",
       "      <td>0</td>\n",
       "      <td>0</td>\n",
       "      <td>0</td>\n",
       "      <td>0</td>\n",
       "      <td>0</td>\n",
       "      <td>0</td>\n",
       "      <td>0</td>\n",
       "      <td>0</td>\n",
       "      <td>0</td>\n",
       "      <td>0</td>\n",
       "      <td>11.1</td>\n",
       "    </tr>\n",
       "  </tbody>\n",
       "</table>\n",
       "</div>"
      ],
      "text/plain": [
       "   Hour  Immobilized bus  Broken Truck  Vehicle excess  Accident victim  \\\n",
       "0     1                0             0               0                0   \n",
       "1     2                0             0               0                0   \n",
       "2     3                0             0               0                0   \n",
       "3     4                0             0               0                0   \n",
       "4     5                0             0               0                0   \n",
       "\n",
       "   Running over  Fire vehicles  Occurrence involving freight  \\\n",
       "0             0              0                             0   \n",
       "1             0              0                             0   \n",
       "2             0              0                             0   \n",
       "3             0              0                             0   \n",
       "4             0              0                             0   \n",
       "\n",
       "   Incident involving dangerous freight  Lack of electricity  Fire  \\\n",
       "0                                     0                    0     0   \n",
       "1                                     0                    0     0   \n",
       "2                                     0                    0     0   \n",
       "3                                     0                    0     0   \n",
       "4                                     0                    0     0   \n",
       "\n",
       "   Point of flooding  Manifestations  Defect in the network of trolleybuses  \\\n",
       "0                  0               0                                      0   \n",
       "1                  0               0                                      0   \n",
       "2                  0               0                                      0   \n",
       "3                  0               0                                      0   \n",
       "4                  0               0                                      0   \n",
       "\n",
       "   Tree on the road   Semaphore off  Intermittent Semaphore  \\\n",
       "0                  0              0                       0   \n",
       "1                  0              0                       0   \n",
       "2                  0              0                       0   \n",
       "3                  0              0                       0   \n",
       "4                  0              0                       0   \n",
       "\n",
       "   Slowness in traffic (%)  \n",
       "0                      4.1  \n",
       "1                      6.6  \n",
       "2                      8.7  \n",
       "3                      9.2  \n",
       "4                     11.1  "
      ]
     },
     "execution_count": 58,
     "metadata": {},
     "output_type": "execute_result"
    }
   ],
   "source": [
    "df = pd.read_csv('sao-paolo-traffic.csv',sep = ',')\n",
    "\n",
    "cols = ['Hour', 'Immobilized bus', 'Broken Truck', 'Vehicle excess', 'Accident victim', 'Running over', 'Fire vehicles', \n",
    "        'Occurrence involving freight', 'Incident involving dangerous freight', 'Lack of electricity', 'Fire', \n",
    "        'Point of flooding', 'Manifestations', 'Defect in the network of trolleybuses', 'Tree on the road ', 'Semaphore off',\n",
    "        'Intermittent Semaphore', 'Slowness in traffic (%)']\n",
    "\n",
    "df.columns = cols\n",
    "df.info()\n",
    "df.head()"
   ]
  },
  {
   "cell_type": "code",
   "execution_count": 59,
   "id": "b15cc29f",
   "metadata": {},
   "outputs": [],
   "source": [
    "# Break dataset into train and test data\n",
    "\n",
    "slowness_index = list(df.columns).index(\"Slowness in traffic (%)\")\n",
    "train_cols = list(df.columns[0:slowness_index]) + list(df.columns[slowness_index+1:])\n",
    "label = df.columns[slowness_index]\n",
    "X_df = df[list(train_cols)]\n",
    "y_df = df[label]"
   ]
  },
  {
   "cell_type": "code",
   "execution_count": 63,
   "id": "452f3004",
   "metadata": {},
   "outputs": [
    {
     "data": {
      "text/plain": [
       "(array([ 5., 11.,  7., 10., 26., 12., 15., 12., 10.,  3.,  3.,  3.,  2.,\n",
       "         2.,  6.,  1.,  3.,  0.,  2.,  2.]),\n",
       " array([ 3.4,  4.4,  5.4,  6.4,  7.4,  8.4,  9.4, 10.4, 11.4, 12.4, 13.4,\n",
       "        14.4, 15.4, 16.4, 17.4, 18.4, 19.4, 20.4, 21.4, 22.4, 23.4]),\n",
       " <BarContainer object of 20 artists>)"
      ]
     },
     "execution_count": 63,
     "metadata": {},
     "output_type": "execute_result"
    },
    {
     "data": {
      "image/png": "[encoded data removed]",
      "text/plain": [
       "<Figure size 1440x576 with 1 Axes>"
      ]
     },
     "metadata": {
      "needs_background": "light"
     },
     "output_type": "display_data"
    }
   ],
   "source": [
    "# Visualize traffic distribution\n",
    "plt.title(\"Distribution of Traffic\")\n",
    "plt.xlabel(\"Slowness in traffic (%)\")\n",
    "plt.ylabel(\"Frequency\")\n",
    "plt.rcParams[\"figure.figsize\"] = (20,8)\n",
    "\n",
    "#plt.scatter(grades, students)\n",
    "\n",
    "plt.xticks(np.arange(min(y_df), max(y_df)+1, 1.0))\n",
    "\n",
    "plt.hist(y_df, color = 'purple', edgecolor = 'black', bins = int(20))"
   ]
  },
  {
   "cell_type": "markdown",
   "id": "6365b662",
   "metadata": {},
   "source": [
    "### Convert to categorical variable"
   ]
  },
  {
   "cell_type": "code",
   "execution_count": 65,
   "id": "6dc0f725",
   "metadata": {},
   "outputs": [],
   "source": [
    "y_df = y_df.apply(lambda x: \"low\" if x < 7.0 else (\"med\" if x <=15.0 else \"high\"))\n",
    "# y_df = y_df.apply(lambda x: \"low\" if x <= 10 else \"high\")"
   ]
  },
  {
   "cell_type": "code",
   "execution_count": 71,
   "id": "aab75a05",
   "metadata": {},
   "outputs": [],
   "source": [
    "dataset = {\n",
    "        'X': X_df,\n",
    "        'y': y_df,\n",
    "}\n",
    "\n",
    "# create a train/test split\n",
    "seed = 1\n",
    "X_train, X_test, y_train, y_test = train_test_split(dataset['X'],dataset['y'], test_size=0.25, random_state=seed)"
   ]
  },
  {
   "cell_type": "markdown",
   "id": "c87b9ea7",
   "metadata": {},
   "source": [
    "## SVM"
   ]
  },
  {
   "cell_type": "code",
   "execution_count": 72,
   "id": "aa853fde",
   "metadata": {},
   "outputs": [
    {
     "data": {
      "text/plain": [
       "SVC(kernel='linear')"
      ]
     },
     "execution_count": 72,
     "metadata": {},
     "output_type": "execute_result"
    }
   ],
   "source": [
    "from sklearn import svm\n",
    "\n",
    "clf = svm.SVC(kernel='linear')\n",
    "clf.fit(X_train, y_train)"
   ]
  },
  {
   "cell_type": "code",
   "execution_count": 78,
   "id": "076d0cb5",
   "metadata": {},
   "outputs": [
    {
     "name": "stdout",
     "output_type": "stream",
     "text": [
      "The accuracy of the model on the training set is:  0.73267\n",
      "The accuracy of the model on the test set is:  0.70588\n"
     ]
    }
   ],
   "source": [
    "#Training accuracy\n",
    "train_pred = clf.predict(X_train).tolist()\n",
    "same_train = sum(x == y for x, y in zip(train_pred, y_train.tolist()))\n",
    "accuracy_train = round(same_train/ len(train_pred), 5)\n",
    "\n",
    "#Test set accuracy\n",
    "predictions = clf.predict(X_test).tolist()\n",
    "same_test = sum(x == y for x, y in zip(predictions, y_test.tolist()))\n",
    "accuracy_test = round(same_test / len(predictions), 5)\n",
    "\n",
    "print(\"The accuracy of the model on the training set is: \", accuracy_train)\n",
    "print(\"The accuracy of the model on the test set is: \", accuracy_test)"
   ]
  },
  {
   "cell_type": "code",
   "execution_count": 79,
   "id": "96911eeb",
   "metadata": {},
   "outputs": [
    {
     "data": {
      "text/plain": [
       "<AxesSubplot:>"
      ]
     },
     "execution_count": 79,
     "metadata": {},
     "output_type": "execute_result"
    },
    {
     "data": {
      "image/png": "[encoded data removed]",
      "text/plain": [
       "<Figure size 864x576 with 1 Axes>"
      ]
     },
     "metadata": {
      "needs_background": "light"
     },
     "output_type": "display_data"
    }
   ],
   "source": [
    "plt.figure(figsize=(12,8))\n",
    "# Top 10 most important features\n",
    "pd.Series(abs(clf.coef_[0]), index=dataset['X'].columns).nlargest(20).plot(kind='barh')"
   ]
  },
  {
   "cell_type": "markdown",
   "id": "959e7e8b",
   "metadata": {},
   "source": [
    "## Logistic Regression"
   ]
  },
  {
   "cell_type": "code",
   "execution_count": 75,
   "id": "e813d818",
   "metadata": {
    "scrolled": true
   },
   "outputs": [],
   "source": [
    "from sklearn.linear_model import LogisticRegression\n",
    "\n",
    "lr = LogisticRegression(random_state=0,max_iter=10000).fit(X_train, y_train)"
   ]
  },
  {
   "cell_type": "code",
   "execution_count": 76,
   "id": "cc9c7559",
   "metadata": {},
   "outputs": [
    {
     "name": "stdout",
     "output_type": "stream",
     "text": [
      "The accuracy of the model on the training set is:  0.71287\n",
      "The accuracy of the model on the test set is:  0.73529\n"
     ]
    }
   ],
   "source": [
    "#Training accuracy\n",
    "train_pred = lr.predict(X_train).tolist()\n",
    "same_train = sum(x == y for x, y in zip(train_pred, y_train.tolist()))\n",
    "accuracy_train = round(same_train/ len(train_pred), 5)\n",
    "\n",
    "#Test set accuracy\n",
    "predictions = lr.predict(X_test).tolist()\n",
    "same_test = sum(x == y for x, y in zip(predictions, y_test.tolist()))\n",
    "accuracy_test = round(same_test / len(predictions), 5)\n",
    "\n",
    "print(\"The accuracy of the model on the training set is: \", accuracy_train)\n",
    "print(\"The accuracy of the model on the test set is: \", accuracy_test)"
   ]
  },
  {
   "cell_type": "code",
   "execution_count": 77,
   "id": "133380d8",
   "metadata": {},
   "outputs": [
    {
     "data": {
      "text/plain": [
       "<AxesSubplot:>"
      ]
     },
     "execution_count": 77,
     "metadata": {},
     "output_type": "execute_result"
    },
    {
     "data": {
      "image/png": "[encoded data removed]",
      "text/plain": [
       "<Figure size 864x576 with 1 Axes>"
      ]
     },
     "metadata": {
      "needs_background": "light"
     },
     "output_type": "display_data"
    }
   ],
   "source": [
    "plt.figure(figsize=(12,8))\n",
    "# Top 10 most important features\n",
    "pd.Series(abs(lr.coef_[0]), index=dataset['X'].columns).nlargest(20).plot(kind='barh')"
   ]
  },
  {
   "cell_type": "markdown",
   "id": "53b2ab35",
   "metadata": {},
   "source": [
    "## Decision Tree"
   ]
  },
  {
   "cell_type": "code",
   "execution_count": 81,
   "id": "83b54241",
   "metadata": {},
   "outputs": [],
   "source": [
    "from sklearn import tree\n",
    "dtree = tree.DecisionTreeClassifier()\n",
    "dtree = dtree.fit(X_train, y_train)"
   ]
  },
  {
   "cell_type": "code",
   "execution_count": 82,
   "id": "c3e64659",
   "metadata": {},
   "outputs": [
    {
     "name": "stdout",
     "output_type": "stream",
     "text": [
      "The accuracy of the model on the training set is:  0.9802\n",
      "The accuracy of the model on the test set is:  0.67647\n"
     ]
    }
   ],
   "source": [
    "#Training accuracy\n",
    "train_pred = dtree.predict(X_train).tolist()\n",
    "same_train = sum(x == y for x, y in zip(train_pred, y_train.tolist()))\n",
    "accuracy_train = round(same_train/ len(train_pred), 5)\n",
    "\n",
    "#Test set accuracy\n",
    "predictions = dtree.predict(X_test).tolist()\n",
    "same_test = sum(x == y for x, y in zip(predictions, y_test.tolist()))\n",
    "accuracy_test = round(same_test / len(predictions), 5)\n",
    "\n",
    "print(\"The accuracy of the model on the training set is: \", accuracy_train)\n",
    "print(\"The accuracy of the model on the test set is: \", accuracy_test)"
   ]
  },
  {
   "cell_type": "code",
   "execution_count": 83,
   "id": "47a5486e",
   "metadata": {},
   "outputs": [
    {
     "data": {
      "text/plain": [
       "<AxesSubplot:>"
      ]
     },
     "execution_count": 83,
     "metadata": {},
     "output_type": "execute_result"
    },
    {
     "data": {
      "image/png": "[encoded data removed]",
      "text/plain": [
       "<Figure size 864x576 with 1 Axes>"
      ]
     },
     "metadata": {
      "needs_background": "light"
     },
     "output_type": "display_data"
    }
   ],
   "source": [
    "plt.figure(figsize=(12,8))\n",
    "# Top 10 most important features\n",
    "pd.Series(abs(dtree.feature_importances_), index=dataset['X'].columns).nlargest(20).plot(kind='barh')"
   ]
  },
  {
   "cell_type": "code",
   "execution_count": null,
   "id": "9f33ca72",
   "metadata": {},
   "outputs": [],
   "source": []
  }
 ],
 "metadata": {
  "kernelspec": {
   "display_name": "Python 3 (ipykernel)",
   "language": "python",
   "name": "python3"
  },
  "language_info": {
   "codemirror_mode": {
    "name": "ipython",
    "version": 3
   },
   "file_extension": ".py",
   "mimetype": "text/x-python",
   "name": "python",
   "nbconvert_exporter": "python",
   "pygments_lexer": "ipython3",
   "version": "3.8.12"
  }
 },
 "nbformat": 4,
 "nbformat_minor": 5
}
