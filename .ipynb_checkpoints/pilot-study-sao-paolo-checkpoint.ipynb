{
 "cells": [
  {
   "cell_type": "code",
   "execution_count": 12,
   "id": "4618202b",
   "metadata": {},
   "outputs": [],
   "source": [
    "# libraries\n",
    "import csv\n",
    "import pandas as pd\n",
    "import numpy as np\n",
    "from matplotlib import pyplot as plt\n",
    "from sklearn.model_selection import train_test_split"
   ]
  },
  {
   "cell_type": "markdown",
   "id": "c0396e75",
   "metadata": {},
   "source": [
    "## Sao Paolo Traffic data set"
   ]
  },
  {
   "cell_type": "code",
   "execution_count": 13,
   "id": "bb0ffc13",
   "metadata": {},
   "outputs": [
    {
     "name": "stdout",
     "output_type": "stream",
     "text": [
      "<class 'pandas.core.frame.DataFrame'>\n",
      "RangeIndex: 135 entries, 0 to 134\n",
      "Data columns (total 18 columns):\n",
      " #   Column                                 Non-Null Count  Dtype \n",
      "---  ------                                 --------------  ----- \n",
      " 0   Hour (Coded)                           135 non-null    int64 \n",
      " 1   Immobilized bus                        135 non-null    int64 \n",
      " 2   Broken Truck                           135 non-null    int64 \n",
      " 3   Vehicle excess                         135 non-null    int64 \n",
      " 4   Accident victim                        135 non-null    int64 \n",
      " 5   Running over                           135 non-null    int64 \n",
      " 6   Fire vehicles                          135 non-null    int64 \n",
      " 7   Occurrence involving freight           135 non-null    int64 \n",
      " 8   Incident involving dangerous freight   135 non-null    int64 \n",
      " 9   Lack of electricity                    135 non-null    int64 \n",
      " 10  Fire                                   135 non-null    int64 \n",
      " 11  Point of flooding                      135 non-null    int64 \n",
      " 12  Manifestations                         135 non-null    int64 \n",
      " 13  Defect in the network of trolleybuses  135 non-null    int64 \n",
      " 14  Tree on the road                       135 non-null    int64 \n",
      " 15  Semaphore off                          135 non-null    int64 \n",
      " 16  Intermittent Semaphore                 135 non-null    int64 \n",
      " 17  Slowness in traffic (%)                135 non-null    object\n",
      "dtypes: int64(17), object(1)\n",
      "memory usage: 19.1+ KB\n"
     ]
    }
   ],
   "source": [
    "df = pd.read_csv('sao-paolo-traffic.csv',sep = ';')\n",
    "\n",
    "cols = ['Hour', 'Immobilized bus', 'Broken Truck', 'Vehicle excess', 'Accident victim', 'Running over', 'Fire vehicles', \n",
    "        'Occurrence involving freight', 'Incident involving dangerous freight', 'Lack of electricity', 'Fire', \n",
    "        'Point of flooding', 'Manifestations', 'Defect in the network of trolleybuses', 'Tree on the road ', 'Semaphore off',\n",
    "        'Intermittent Semaphore', 'Slowness in traffic (%)']\n",
    "\n",
    "df.columns = cols\n",
    "df.head()"
   ]
  },
  {
   "cell_type": "code",
   "execution_count": null,
   "id": "1cded03e",
   "metadata": {},
   "outputs": [],
   "source": []
  }
 ],
 "metadata": {
  "kernelspec": {
   "display_name": "Python 3 (ipykernel)",
   "language": "python",
   "name": "python3"
  },
  "language_info": {
   "codemirror_mode": {
    "name": "ipython",
    "version": 3
   },
   "file_extension": ".py",
   "mimetype": "text/x-python",
   "name": "python",
   "nbconvert_exporter": "python",
   "pygments_lexer": "ipython3",
   "version": "3.8.12"
  }
 },
 "nbformat": 4,
 "nbformat_minor": 5
}
